{
  "nbformat": 4,
  "nbformat_minor": 0,
  "metadata": {
    "accelerator": "GPU",
    "colab": {
      "name": "TripletNetworks & One-shot Learning.ipynb",
      "provenance": [],
      "collapsed_sections": []
    },
    "kernelspec": {
      "display_name": "Python 3",
      "language": "python",
      "name": "python3"
    },
    "language_info": {
      "codemirror_mode": {
        "name": "ipython",
        "version": 3
      },
      "file_extension": ".py",
      "mimetype": "text/x-python",
      "name": "python",
      "nbconvert_exporter": "python",
      "pygments_lexer": "ipython3",
      "version": "3.7.4"
    }
  },
  "cells": [
    {
      "cell_type": "markdown",
      "metadata": {
        "colab_type": "text",
        "id": "p-gkaM1tCThc"
      },
      "source": [
        "***\n",
        "## Triplet networks & one-shot learning\n",
        "\n",
        "In this topic, we will train a Siamese network for one-shot learning task on the Omniglot dataset with triplet networks, we will also compare our model performance under different triplet selection method.\n",
        "\n",
        "Code based on: https://sorenbouma.github.io/blog/oneshot/ and https://github.com/sorenbouma/keras-oneshot/blob/master/SiameseNet.ipynb"
      ]
    },
    {
      "cell_type": "markdown",
      "metadata": {
        "colab_type": "text",
        "id": "ZqdQgnI5AuN5"
      },
      "source": [
        "### Import packages and mount data\n",
        "Before everything, we need to import packages and mount data."
      ]
    },
    {
      "cell_type": "code",
      "metadata": {
        "colab_type": "code",
        "id": "8QdDDUEIAuN6",
        "colab": {}
      },
      "source": [
        "import tensorflow as tf\n",
        "from tensorflow.keras import backend as K\n",
        "from tensorflow.keras.layers import Input, Conv2D, Lambda, Dense, Flatten, MaxPooling2D, Dropout, concatenate, BatchNormalization\n",
        "from tensorflow.keras.models import Model, Sequential\n",
        "from tensorflow.keras.regularizers import l2\n",
        "from tensorflow.keras.optimizers import Adam\n",
        "from tensorflow.keras.losses import binary_crossentropy\n",
        "import numpy as np\n",
        "import os\n",
        "import pickle\n",
        "import matplotlib.pyplot as plt\n",
        "from sklearn.utils import shuffle"
      ],
      "execution_count": null,
      "outputs": []
    },
    {
      "cell_type": "code",
      "metadata": {
        "colab_type": "code",
        "id": "YzhGJvL2A7aL",
        "colab": {
          "base_uri": "https://localhost:8080/",
          "height": 122
        },
        "outputId": "895ac54c-5148-47c1-f96f-2390afc3f382"
      },
      "source": [
        "# mount the data needed to drive folder so we can use them in colab, see the data download link in Practical 4a.1\n",
        "from google.colab import drive\n",
        "!mkdir drive\n",
        "drive.mount('drive')"
      ],
      "execution_count": null,
      "outputs": [
        {
          "output_type": "stream",
          "text": [
            "Go to this URL in a browser: https://accounts.google.com/o/oauth2/auth?client_id=947318989803-6bn6qk8qdgf4n4g3pfee6491hc0brc4i.apps.googleusercontent.com&redirect_uri=urn%3aietf%3awg%3aoauth%3a2.0%3aoob&response_type=code&scope=email%20https%3a%2f%2fwww.googleapis.com%2fauth%2fdocs.test%20https%3a%2f%2fwww.googleapis.com%2fauth%2fdrive%20https%3a%2f%2fwww.googleapis.com%2fauth%2fdrive.photos.readonly%20https%3a%2f%2fwww.googleapis.com%2fauth%2fpeopleapi.readonly\n",
            "\n",
            "Enter your authorization code:\n",
            "··········\n",
            "Mounted at drive\n"
          ],
          "name": "stdout"
        }
      ]
    },
    {
      "cell_type": "code",
      "metadata": {
        "colab_type": "code",
        "id": "NEy5u5WBAuN_",
        "colab": {
          "base_uri": "https://localhost:8080/",
          "height": 156
        },
        "outputId": "ec6086c0-4f2f-4cb8-9b5b-baf6fd479691"
      },
      "source": [
        "PATH = os.path.join(\"drive\",\"My Drive\",\"Deep Learning\",\"dataset\" ,\"omniglot\")\n",
        "\n",
        "with open(os.path.join(PATH, \"omniglot_train.p\"), \"rb\") as f:\n",
        "    (X_train, c_train) = pickle.load(f)\n",
        "\n",
        "with open(os.path.join(PATH, \"omniglot_test.p\"), \"rb\") as f:\n",
        "    (X_test, c_test) = pickle.load(f)\n",
        "\n",
        "print(\"X_train shape:\", X_train.shape)\n",
        "print(\"X_test shape:\", X_test.shape)\n",
        "print(\"\")\n",
        "print(\"training alphabets\")\n",
        "print([key for key in c_train.keys()])\n",
        "print(\"test alphabets:\")\n",
        "print([key for key in c_test.keys()])"
      ],
      "execution_count": null,
      "outputs": [
        {
          "output_type": "stream",
          "text": [
            "X_train shape: (964, 20, 105, 105)\n",
            "X_test shape: (659, 20, 105, 105)\n",
            "\n",
            "training alphabets\n",
            "['Braille', 'Anglo-Saxon_Futhorc', 'Tifinagh', 'Grantha', 'Burmese_(Myanmar)', 'Mkhedruli_(Georgian)', 'Latin', 'Ojibwe_(Canadian_Aboriginal_Syllabics)', 'Balinese', 'Malay_(Jawi_-_Arabic)', 'Early_Aramaic', 'Korean', 'Japanese_(hiragana)', 'Armenian', 'Cyrillic', 'Hebrew', 'Syriac_(Estrangelo)', 'Japanese_(katakana)', 'Blackfoot_(Canadian_Aboriginal_Syllabics)', 'N_Ko', 'Alphabet_of_the_Magi', 'Inuktitut_(Canadian_Aboriginal_Syllabics)', 'Greek', 'Bengali', 'Tagalog', 'Futurama', 'Arcadian', 'Gujarati', 'Asomtavruli_(Georgian)', 'Sanskrit']\n",
            "test alphabets:\n",
            "['ULOG', 'Atemayar_Qelisayer', 'Ge_ez', 'Gurmukhi', 'Tengwar', 'Keble', 'Malayalam', 'Oriya', 'Kannada', 'Mongolian', 'Angelic', 'Atlantean', 'Syriac_(Serto)', 'Aurek-Besh', 'Avesta', 'Glagolitic', 'Sylheti', 'Tibetan', 'Manipuri', 'Old_Church_Slavonic_(Cyrillic)']\n"
          ],
          "name": "stdout"
        }
      ]
    },
    {
      "cell_type": "markdown",
      "metadata": {
        "colab_type": "text",
        "id": "QP79HYQrXD2k"
      },
      "source": [
        "### Task 2.1: Build  the triplet network (3pt)"
      ]
    },
    {
      "cell_type": "markdown",
      "metadata": {
        "colab_type": "text",
        "id": "1WHpL8iHAuOH"
      },
      "source": [
        "We will define a triplet Network for use with the Omniglot dataset. Each branch of the triplet  is a \"convnet\" model that transforms data to an embeddings space. \n",
        "\n",
        "*HINT: you may need \"Concatenate\" from keras.layer to merge the output layer*"
      ]
    },
    {
      "cell_type": "code",
      "metadata": {
        "colab_type": "code",
        "id": "GQNaMa8hXD2l",
        "colab": {
          "base_uri": "https://localhost:8080/",
          "height": 731
        },
        "outputId": "633217ec-15b0-4f1e-e4cd-e85a0c09f4bb"
      },
      "source": [
        "# define a convnet model to transforms data to an embeddings space. \n",
        "\n",
        "input_shape = (105, 105, 1)\n",
        "convnet = Sequential()\n",
        "convnet.add(Conv2D(64, (10,10), activation='relu', input_shape=input_shape, kernel_regularizer=l2(2e-4)))\n",
        "convnet.add(MaxPooling2D())\n",
        "convnet.add(BatchNormalization())\n",
        "convnet.add(Dropout(0.25))\n",
        "convnet.add(Conv2D(128, (7,7), activation='relu', kernel_regularizer=l2(2e-4)))\n",
        "convnet.add(MaxPooling2D())\n",
        "convnet.add(BatchNormalization())\n",
        "convnet.add(Dropout(0.25))\n",
        "convnet.add(Conv2D(128, (4,4), activation='relu', kernel_regularizer=l2(2e-4)))\n",
        "convnet.add(MaxPooling2D())\n",
        "convnet.add(BatchNormalization())\n",
        "convnet.add(Dropout(0.25))\n",
        "convnet.add(Conv2D(256, (4,4), activation='relu', kernel_regularizer=l2(2e-4)))\n",
        "convnet.add(Flatten())\n",
        "convnet.add(BatchNormalization())\n",
        "convnet.add(Dropout(0.25))\n",
        "convnet.add(Dense(4096, activation=\"sigmoid\", kernel_regularizer=l2(1e-3)))\n",
        "convnet.summary()"
      ],
      "execution_count": null,
      "outputs": [
        {
          "output_type": "stream",
          "text": [
            "Model: \"sequential_1\"\n",
            "_________________________________________________________________\n",
            "Layer (type)                 Output Shape              Param #   \n",
            "=================================================================\n",
            "conv2d_4 (Conv2D)            (None, 96, 96, 64)        6464      \n",
            "_________________________________________________________________\n",
            "max_pooling2d_3 (MaxPooling2 (None, 48, 48, 64)        0         \n",
            "_________________________________________________________________\n",
            "batch_normalization_4 (Batch (None, 48, 48, 64)        256       \n",
            "_________________________________________________________________\n",
            "dropout_4 (Dropout)          (None, 48, 48, 64)        0         \n",
            "_________________________________________________________________\n",
            "conv2d_5 (Conv2D)            (None, 42, 42, 128)       401536    \n",
            "_________________________________________________________________\n",
            "max_pooling2d_4 (MaxPooling2 (None, 21, 21, 128)       0         \n",
            "_________________________________________________________________\n",
            "batch_normalization_5 (Batch (None, 21, 21, 128)       512       \n",
            "_________________________________________________________________\n",
            "dropout_5 (Dropout)          (None, 21, 21, 128)       0         \n",
            "_________________________________________________________________\n",
            "conv2d_6 (Conv2D)            (None, 18, 18, 128)       262272    \n",
            "_________________________________________________________________\n",
            "max_pooling2d_5 (MaxPooling2 (None, 9, 9, 128)         0         \n",
            "_________________________________________________________________\n",
            "batch_normalization_6 (Batch (None, 9, 9, 128)         512       \n",
            "_________________________________________________________________\n",
            "dropout_6 (Dropout)          (None, 9, 9, 128)         0         \n",
            "_________________________________________________________________\n",
            "conv2d_7 (Conv2D)            (None, 6, 6, 256)         524544    \n",
            "_________________________________________________________________\n",
            "flatten_1 (Flatten)          (None, 9216)              0         \n",
            "_________________________________________________________________\n",
            "batch_normalization_7 (Batch (None, 9216)              36864     \n",
            "_________________________________________________________________\n",
            "dropout_7 (Dropout)          (None, 9216)              0         \n",
            "_________________________________________________________________\n",
            "dense_1 (Dense)              (None, 4096)              37752832  \n",
            "=================================================================\n",
            "Total params: 38,985,792\n",
            "Trainable params: 38,966,720\n",
            "Non-trainable params: 19,072\n",
            "_________________________________________________________________\n"
          ],
          "name": "stdout"
        }
      ]
    },
    {
      "cell_type": "code",
      "metadata": {
        "colab_type": "code",
        "id": "RXVuWeCsAuOI",
        "colab": {
          "base_uri": "https://localhost:8080/",
          "height": 425
        },
        "outputId": "e8a26265-0344-403e-8244-9eb234a4095f"
      },
      "source": [
        "# define a Triplet network\n",
        "\n",
        "# The anchor, positive, negative image are merged together, as the input of the triplet network, then got split to get each one's neural codes.\n",
        "generated = Input(shape=(3, 105, 105, 1), name='input')\n",
        "\n",
        "anchor  = Lambda(lambda x: x[:,0])(generated)\n",
        "pos     = Lambda(lambda x: x[:,1])(generated)\n",
        "neg     = Lambda(lambda x: x[:,2])(generated)\n",
        "                    \n",
        "\n",
        "anchor_embedding    = convnet(anchor)\n",
        "pos_embedding       = convnet(pos)\n",
        "neg_embedding       = convnet(neg)  \n",
        "\n",
        "# merge the anchor, positive, negative embedding together, \n",
        "# let the merged layer be the output of triplet network\n",
        "\n",
        "\n",
        "merged_output = concatenate([anchor_embedding, pos_embedding, neg_embedding], axis=-1)\n",
        "\n",
        "triplet_net = Model(inputs=generated, outputs=merged_output)\n",
        "\n",
        "triplet_net.summary()"
      ],
      "execution_count": null,
      "outputs": [
        {
          "output_type": "stream",
          "text": [
            "Model: \"model_11\"\n",
            "__________________________________________________________________________________________________\n",
            "Layer (type)                    Output Shape         Param #     Connected to                     \n",
            "==================================================================================================\n",
            "input (InputLayer)              [(None, 3, 105, 105, 0                                            \n",
            "__________________________________________________________________________________________________\n",
            "lambda_3 (Lambda)               (None, 105, 105, 1)  0           input[0][0]                      \n",
            "__________________________________________________________________________________________________\n",
            "lambda_4 (Lambda)               (None, 105, 105, 1)  0           input[0][0]                      \n",
            "__________________________________________________________________________________________________\n",
            "lambda_5 (Lambda)               (None, 105, 105, 1)  0           input[0][0]                      \n",
            "__________________________________________________________________________________________________\n",
            "sequential_1 (Sequential)       (None, 4096)         38985792    lambda_3[0][0]                   \n",
            "                                                                 lambda_4[0][0]                   \n",
            "                                                                 lambda_5[0][0]                   \n",
            "__________________________________________________________________________________________________\n",
            "concatenate_1 (Concatenate)     (None, 12288)        0           sequential_1[1][0]               \n",
            "                                                                 sequential_1[2][0]               \n",
            "                                                                 sequential_1[3][0]               \n",
            "==================================================================================================\n",
            "Total params: 38,985,792\n",
            "Trainable params: 38,966,720\n",
            "Non-trainable params: 19,072\n",
            "__________________________________________________________________________________________________\n"
          ],
          "name": "stdout"
        }
      ]
    },
    {
      "cell_type": "markdown",
      "metadata": {
        "colab_type": "text",
        "id": "A-XyrIANAuOM"
      },
      "source": [
        "### Task 2.2: Define triplet loss (2pt)\n",
        "\n",
        "You can find the formula of the triplet loss function in our lecture note. When training our model, make sure the network achieves a smaller loss than the margin and the network does not collapse all representations to zero vectors. \n",
        "\n",
        "*HINT: If you experience problems to achieve this goal, it might be helpful to tinker the learning rate, you can also play with the margin value to get better performance*"
      ]
    },
    {
      "cell_type": "code",
      "metadata": {
        "colab_type": "code",
        "id": "mZ3v2Z0RAuON",
        "colab": {}
      },
      "source": [
        "# Notice that the ground truth variable is not used for loss calculation. \n",
        "# It is used as a function argument to by-pass some Keras functionality.\n",
        "# This is because the network structure already implies the ground truth for the anchor image with the \"positive\" image.\n",
        "import tensorflow as tf\n",
        "def triplet_loss(ground_truth, network_output):\n",
        "    anchor, positive, negative = tf.split(network_output, num_or_size_splits=3, axis=1)        \n",
        "    \n",
        "    margin = 0.2\n",
        "    \n",
        "    for embedding in [anchor, positive, negative]:\n",
        "        embedding = tf.math.l2_normalize(embedding)\n",
        "\n",
        "    pos_dist = tf.reduce_sum(tf.square(tf.subtract(anchor, positive)), axis=1)\n",
        "    neg_dist = tf.reduce_sum(tf.square(tf.subtract(anchor, negative)), axis=1)\n",
        "    basic_loss = tf.add(tf.subtract(pos_dist, neg_dist), margin)\n",
        "    loss = tf.reduce_mean(tf.maximum(basic_loss, 0.0), axis=0)\n",
        "\n",
        "    return loss"
      ],
      "execution_count": null,
      "outputs": []
    },
    {
      "cell_type": "markdown",
      "metadata": {
        "colab_type": "text",
        "id": "H7Wo8uzTXD2v"
      },
      "source": [
        "### Task 2.3: Select triplets for training (3pt)"
      ]
    },
    {
      "cell_type": "markdown",
      "metadata": {
        "colab_type": "text",
        "id": "tSSr9IzTAuOX"
      },
      "source": [
        "#### Different  selection method\n",
        "\n",
        "We have two different options for the triplet selection method, and we will compare the model performance under these two methods after building our model.\n",
        "\n",
        "(1) Random  triplets selection, including the following steps:\n",
        "* Pick one random class for anchor\n",
        "* Pick two different random picture for this class, as the anchor and positive images\n",
        "* Pick another class for Negative, different from anchor_class\n",
        "* Pick one random picture from the negative class.\n",
        "\n",
        "(2) Hard triplets selection. For easy implement, for a picked anchor, positive pair, we will choose the hardest negative to form a hard triplet, that means, after picking an anchor, positive image, we will choose the negative image which is nearest from anchor image from a negative class, ie: \"- d(a,n)\"  can get the minimum value. The whole process including the following steps:\n",
        "* Pick one random class for anchor\n",
        "* Pick two different random picture for this class, as an anchor and positive images\n",
        "* Pick another class for negative, different from anchor_class\n",
        "* Pick one hardest picture from the negative class.\n",
        "\n",
        "*HINT: when picking the hardest negative, you may need the model.predict to get the embedding of images, the calculate the distances*"
      ]
    },
    {
      "cell_type": "code",
      "metadata": {
        "id": "0hTF0ULDm2aj",
        "colab_type": "code",
        "colab": {}
      },
      "source": [
        "# Notice that the returned  1 * np.zeros(batch_size) is to by-pass some Keras functionality, corresponding to ground_truth in tripletloss\n",
        "# We use a variable hard_selection to control which method we are going to use. If we set hard_selection == False, we will select triplets random,If we set the variable hard_selection == True, we will select hard triplets.\n",
        "\n",
        "def get_batch(hard_selection, model, batch_size, X):\n",
        "  \n",
        "  while True:\n",
        "      \n",
        "      n_classes, n_examples, w, h = X.shape\n",
        "      # initialize result\n",
        "      triplets=[]\n",
        "\n",
        "      for i in range(batch_size):\n",
        "          triplet = [[],[],[]]\n",
        "          #Pick one random class for anchor\n",
        "          anchor_class = np.random.randint(0, n_classes)\n",
        "\n",
        "          #Pick two different random pics for this class => idx_A and idx_P\n",
        "          [idx_A,idx_P] = np.random.choice(n_examples,size=2,replace=False)\n",
        "\n",
        "          #Pick another class for negative, different from anchor_class\n",
        "          \n",
        "          negative_class = np.random.choice([x for x in range(0, n_classes) if x != anchor_class])\n",
        "\n",
        "          if not hard_selection:\n",
        "              #Pick a random pic from this negative class => N\n",
        "                 \n",
        "              idx_N = np.random.choice(n_examples, size=1)\n",
        "\n",
        "          else:\n",
        "              #Pick a hardest pic from this negative class => N\n",
        "             \n",
        "              # get embedding model\n",
        "              emb_layer = model.layers[4]\n",
        "              emb_model = Model(inputs=emb_layer.input, outputs=emb_layer.output)\n",
        "              # get embedding of images\n",
        "              embedding_anchor = emb_model.predict(X[anchor_class])[idx_A]\n",
        "              embedding_negative = emb_model.predict(X[negative_class])\n",
        "              # distance between anchor image and negative image can get the minimum value\n",
        "              distances = [np.linalg.norm(x - embedding_anchor) for x in embedding_negative]\n",
        "              idx_N = np.argmin(distances)\n",
        "\n",
        "          triplet[0] = X[anchor_class][idx_A].reshape(w, h, 1)\n",
        "          triplet[1] = X[anchor_class][idx_P].reshape(w, h, 1)\n",
        "          triplet[2]=  X[negative_class][idx_N].reshape(w, h, 1)\n",
        "          triplets.append(triplet)\n",
        "\n",
        "      # change yield to return for using generator\n",
        "      return np.array(triplets), 1 * np.zeros(batch_size)"
      ],
      "execution_count": null,
      "outputs": []
    },
    {
      "cell_type": "code",
      "metadata": {
        "id": "OfRIlkssFvQL",
        "colab_type": "code",
        "colab": {}
      },
      "source": [
        "def batch_generator(hard_selection, model, batch_size, X):\n",
        "    \"\"\"a generator for batches, so model.fit.generator can be used. \"\"\"\n",
        "    while True:\n",
        "        pairs, targets= get_batch(hard_selection, model, batch_size, X)\n",
        "        yield (pairs, targets)\n",
        "\n",
        "def train(hard_selection, model, X_train, batch_size=64, steps_per_epoch=100, epochs=1):\n",
        "    model.fit(batch_generator(hard_selection, model, batch_size, X_train), steps_per_epoch=steps_per_epoch, epochs=epochs)"
      ],
      "execution_count": null,
      "outputs": []
    },
    {
      "cell_type": "markdown",
      "metadata": {
        "colab_type": "text",
        "id": "LP1oojLhXD2z"
      },
      "source": [
        "### Task 2.4: One-shot learning with different selection method (2pt)"
      ]
    },
    {
      "cell_type": "markdown",
      "metadata": {
        "colab_type": "text",
        "id": "XHGJp45AR1qm"
      },
      "source": [
        "Function \"make_oneshot_task\" that can randomly setup such a one-shot task from a given test set (if a language is specified, using only classes/characters from that language), i.e. it will generate N pairs of images, where the first image is always the test image, and the second image is one of the N reference images. The pair of images from the same class will have target 1, all other targets are 0.\n",
        "\n",
        "The function \"test_oneshot\" will generate a number (k) of such one-shot tasks and evaluate the performance of a given model on these tasks; it reports the percentage of correctly classified test images\n",
        "\n",
        "In \"test_oneshot\", you can use embeddings extracted from the triplet network with L2-distance to evaluate one-shot learning. i.e. for a given one-shot task, obtain embeddings for the test image as well as the support set. Then pick the image from the support set that is closest (in L2-distance) to the test image as your one-shot prediction.\n",
        "\n",
        "*HINT you can re-use some code from practice 4b.4*"
      ]
    },
    {
      "cell_type": "code",
      "metadata": {
        "colab_type": "code",
        "id": "RBgoMDwMAuOh",
        "colab": {}
      },
      "source": [
        "def make_oneshot_task(N, X, c, language=None):\n",
        "    \"\"\"Create pairs of (test image, support set image) with ground truth, for testing N-way one-shot learning.\"\"\"\n",
        "    n_classes, n_examples, w, h = X.shape\n",
        "    indices = np.random.randint(0, n_examples, size=(N,))\n",
        "    if language is not None:\n",
        "        low, high = c[language]\n",
        "        if N > high - low:\n",
        "            raise ValueError(\"This language ({}) has less than {} letters\".format(language, N))\n",
        "        categories = np.random.choice(range(low,high), size=(N,), replace=False)\n",
        "    else:  # if no language specified just pick a bunch of random letters\n",
        "        categories = np.random.choice(range(n_classes), size=(N,), replace=False)            \n",
        "    true_category = categories[0]\n",
        "    ex1, ex2 = np.random.choice(n_examples, replace=False, size=(2,))\n",
        "    test_image = np.asarray([X[true_category, ex1, :, :]]*N).reshape(N, w, h, 1)\n",
        "    support_set = X[categories, indices, :, :]\n",
        "    support_set[0, :, :] = X[true_category, ex2]\n",
        "    support_set = support_set.reshape(N, w, h, 1)\n",
        "    targets = np.zeros((N,))\n",
        "    targets[0] = 1\n",
        "    targets, test_image, support_set = shuffle(targets, test_image, support_set)\n",
        "    pairs = [test_image, support_set]\n",
        "    return pairs, targets\n"
      ],
      "execution_count": null,
      "outputs": []
    },
    {
      "cell_type": "code",
      "metadata": {
        "colab_type": "code",
        "id": "rk5F3ffuAuOl",
        "colab": {}
      },
      "source": [
        "def test_oneshot(model, X, c, N=20, k=250, language=None, verbose=True):\n",
        " \n",
        "         \n",
        "    \"\"\"Test average N-way oneshot learning accuracy of a siamese neural net over k one-shot tasks.\"\"\"\n",
        "    n_correct = 0\n",
        "    if verbose:\n",
        "        print(\"Evaluating model on {} random {}-way one-shot learning tasks ...\".format(k, N))\n",
        "    for i in range(k):\n",
        "        inputs, targets = make_oneshot_task(N, X, c, language=language)\n",
        "        # for a given one-shot task, obtain embeddings for the test image as well as the support set\n",
        "        prob_test = model.predict(inputs[0])\n",
        "        prob_support = model.predict(inputs[1])\n",
        "        # pick the image from the support set that is closest (in L2-distance) to the test image as your one-shot prediction\n",
        "        distances = [np.linalg.norm(x-y) for x,y in zip(prob_test,prob_support)]\n",
        "        # if the index of the closest pair is equal to the target then correct\n",
        "        if np.argmin(distances) == np.argmax(targets):\n",
        "            n_correct += 1\n",
        "    percent_correct = (100.0*n_correct / k)\n",
        "    if verbose:\n",
        "        print(\"Got an average of {}% accuracy for {}-way one-shot learning\".format(percent_correct, N))\n",
        "\n",
        "    return percent_correct"
      ],
      "execution_count": null,
      "outputs": []
    },
    {
      "cell_type": "markdown",
      "metadata": {
        "colab_type": "text",
        "id": "u6yMu4jlXD26"
      },
      "source": [
        "With different triplets selecting method (random and hard), we will train our model and evaluate the model by one-shot learning accuracy.\n",
        "\n",
        "* You need to explicitly state the accuracy under different  triplets selecting method\n",
        "* When evaluating model with test_oneshot function, you should evaluate on 20 way one-shot task, and set the number (k) of evaluation one-shot tasks to be 250, then calculate the average accuracy\n",
        "\n",
        "*HINT: After training our model with random selection method, before train model under hard triplets selection, we should re-build our model (re-run the cell in Task 2.1) to initialize our model and prevent re-use the trained model of random selection*"
      ]
    },
    {
      "cell_type": "markdown",
      "metadata": {
        "colab_type": "text",
        "id": "snKKGhIoXD27"
      },
      "source": [
        "#### Evaluate one-shot learning with  random triplets selection"
      ]
    },
    {
      "cell_type": "code",
      "metadata": {
        "id": "RCKwOsIUZWGQ",
        "colab_type": "code",
        "colab": {}
      },
      "source": [
        "# compile triplet net\n",
        "triplet_net.compile(loss=triplet_loss,optimizer=Adam(lr=0.0001))\n",
        "# triplet_net.summary()"
      ],
      "execution_count": null,
      "outputs": []
    },
    {
      "cell_type": "code",
      "metadata": {
        "colab_type": "code",
        "id": "e-r2qB5dAuOt",
        "colab": {
          "base_uri": "https://localhost:8080/",
          "height": 697
        },
        "outputId": "601c8fcb-f9d5-4882-b6cf-2f26c85a0322"
      },
      "source": [
        "# hard_selection == False, selcet triplets randomly\n",
        "# Train our model and evaluate the model by one-shot learning accuracy.\n",
        "# loops at least 5\n",
        "loops = 10\n",
        "best_acc = 0\n",
        "for i in range(loops):\n",
        "    print(\"=== Training loop {} ===\".format(i+1))\n",
        "    \n",
        "    train(False, triplet_net, X_train)\n",
        "    # get embedding layer by index\n",
        "    emb_layer = triplet_net.layers[4]\n",
        "    emb_model = Model(inputs=emb_layer.input, outputs=emb_layer.output)\n",
        "    test_acc = test_oneshot(emb_model, X_test, c_test)\n",
        "    if test_acc >= best_acc:\n",
        "        best_acc = test_acc"
      ],
      "execution_count": null,
      "outputs": [
        {
          "output_type": "stream",
          "text": [
            "=== Training loop 1 ===\n",
            "100/100 [==============================] - 10s 96ms/step - loss: 9.1419\n",
            "Evaluating model on 250 random 20-way one-shot learning tasks ...\n",
            "Got an average of 45.6% accuracy for 20-way one-shot learning\n",
            "=== Training loop 2 ===\n",
            "100/100 [==============================] - 10s 96ms/step - loss: 7.6948\n",
            "Evaluating model on 250 random 20-way one-shot learning tasks ...\n",
            "Got an average of 52.0% accuracy for 20-way one-shot learning\n",
            "=== Training loop 3 ===\n",
            "100/100 [==============================] - 10s 97ms/step - loss: 7.1732\n",
            "Evaluating model on 250 random 20-way one-shot learning tasks ...\n",
            "Got an average of 59.6% accuracy for 20-way one-shot learning\n",
            "=== Training loop 4 ===\n",
            "100/100 [==============================] - 10s 97ms/step - loss: 7.0375\n",
            "Evaluating model on 250 random 20-way one-shot learning tasks ...\n",
            "Got an average of 61.6% accuracy for 20-way one-shot learning\n",
            "=== Training loop 5 ===\n",
            "100/100 [==============================] - 10s 97ms/step - loss: 7.0261\n",
            "Evaluating model on 250 random 20-way one-shot learning tasks ...\n",
            "Got an average of 60.0% accuracy for 20-way one-shot learning\n",
            "=== Training loop 6 ===\n",
            "100/100 [==============================] - 10s 97ms/step - loss: 6.8935\n",
            "Evaluating model on 250 random 20-way one-shot learning tasks ...\n",
            "Got an average of 68.8% accuracy for 20-way one-shot learning\n",
            "=== Training loop 7 ===\n",
            "100/100 [==============================] - 10s 96ms/step - loss: 6.8840\n",
            "Evaluating model on 250 random 20-way one-shot learning tasks ...\n",
            "Got an average of 59.6% accuracy for 20-way one-shot learning\n",
            "=== Training loop 8 ===\n",
            "100/100 [==============================] - 10s 97ms/step - loss: 6.7901\n",
            "Evaluating model on 250 random 20-way one-shot learning tasks ...\n",
            "Got an average of 63.2% accuracy for 20-way one-shot learning\n",
            "=== Training loop 9 ===\n",
            "100/100 [==============================] - 10s 97ms/step - loss: 6.5823\n",
            "Evaluating model on 250 random 20-way one-shot learning tasks ...\n",
            "Got an average of 70.4% accuracy for 20-way one-shot learning\n",
            "=== Training loop 10 ===\n",
            "100/100 [==============================] - 10s 97ms/step - loss: 6.8181\n",
            "Evaluating model on 250 random 20-way one-shot learning tasks ...\n",
            "Got an average of 59.2% accuracy for 20-way one-shot learning\n"
          ],
          "name": "stdout"
        }
      ]
    },
    {
      "cell_type": "markdown",
      "metadata": {
        "colab_type": "text",
        "id": "YLlvr6TRXD2-"
      },
      "source": [
        "#### Evaluate one-shot learning with  hard triplets selection"
      ]
    },
    {
      "cell_type": "code",
      "metadata": {
        "colab_type": "code",
        "id": "CN_IDkRHqjb5",
        "colab": {
          "base_uri": "https://localhost:8080/",
          "height": 697
        },
        "outputId": "4d9d7056-6564-4d64-9b9c-de4e7537e937"
      },
      "source": [
        "# hard_selection == True, selcet hard triplets\n",
        "# Train our model and evaluate the model by one-shot learning accuracy.\n",
        "loops = 10\n",
        "best_acc = 0\n",
        "for i in range(loops):\n",
        "    print(\"=== Training loop {} ===\".format(i+1))\n",
        "    \n",
        "    train(True, triplet_net, X_train)\n",
        "    # get embedding layer by index\n",
        "    emb_layer = triplet_net.layers[4]\n",
        "    emb_model = Model(inputs=emb_layer.input, outputs=emb_layer.output)\n",
        "    test_acc = test_oneshot(emb_model, X_test, c_test)\n",
        "    if test_acc >= best_acc:\n",
        "        best_acc = test_acc"
      ],
      "execution_count": null,
      "outputs": [
        {
          "output_type": "stream",
          "text": [
            "=== Training loop 1 ===\n",
            "100/100 [==============================] - 1155s 12s/step - loss: 11.8723\n",
            "Evaluating model on 250 random 20-way one-shot learning tasks ...\n",
            "Got an average of 52.4% accuracy for 20-way one-shot learning\n",
            "=== Training loop 2 ===\n",
            "100/100 [==============================] - 1147s 11s/step - loss: 8.9557\n",
            "Evaluating model on 250 random 20-way one-shot learning tasks ...\n",
            "Got an average of 64.4% accuracy for 20-way one-shot learning\n",
            "=== Training loop 3 ===\n",
            "100/100 [==============================] - 1138s 11s/step - loss: 8.1471\n",
            "Evaluating model on 250 random 20-way one-shot learning tasks ...\n",
            "Got an average of 56.8% accuracy for 20-way one-shot learning\n",
            "=== Training loop 4 ===\n",
            "100/100 [==============================] - 1151s 12s/step - loss: 7.9807\n",
            "Evaluating model on 250 random 20-way one-shot learning tasks ...\n",
            "Got an average of 70.0% accuracy for 20-way one-shot learning\n",
            "=== Training loop 5 ===\n",
            "100/100 [==============================] - 1155s 12s/step - loss: 8.0309\n",
            "Evaluating model on 250 random 20-way one-shot learning tasks ...\n",
            "Got an average of 65.2% accuracy for 20-way one-shot learning\n",
            "=== Training loop 6 ===\n",
            "100/100 [==============================] - 1142s 11s/step - loss: 7.9662\n",
            "Evaluating model on 250 random 20-way one-shot learning tasks ...\n",
            "Got an average of 69.2% accuracy for 20-way one-shot learning\n",
            "=== Training loop 7 ===\n",
            "100/100 [==============================] - 1149s 11s/step - loss: 7.6880\n",
            "Evaluating model on 250 random 20-way one-shot learning tasks ...\n",
            "Got an average of 72.0% accuracy for 20-way one-shot learning\n",
            "=== Training loop 8 ===\n",
            "100/100 [==============================] - 1154s 12s/step - loss: 7.4616\n",
            "Evaluating model on 250 random 20-way one-shot learning tasks ...\n",
            "Got an average of 70.8% accuracy for 20-way one-shot learning\n",
            "=== Training loop 9 ===\n",
            "100/100 [==============================] - 1169s 12s/step - loss: 7.3646\n",
            "Evaluating model on 250 random 20-way one-shot learning tasks ...\n",
            "Got an average of 72.0% accuracy for 20-way one-shot learning\n",
            "=== Training loop 10 ===\n",
            "100/100 [==============================] - 1176s 12s/step - loss: 7.4021\n",
            "Evaluating model on 250 random 20-way one-shot learning tasks ...\n",
            "Got an average of 74.4% accuracy for 20-way one-shot learning\n"
          ],
          "name": "stdout"
        }
      ]
    },
    {
      "cell_type": "markdown",
      "metadata": {
        "id": "nAV54_4pUVk8",
        "colab_type": "text"
      },
      "source": [
        "## Analysis\n",
        "From the above training and evaluating data its' safe to conclude that hard triplet selection mechanism brings higher accuracy(best 74.4%) and slightly higher loss with more running time. \n",
        "\n",
        "This makes sense as selecting hard triplet requires extra distance calculation of an anchor with a bunch of(20 in this dataset) negative images, which is time consuming. For hard triplets, the second term in loss function would be the minimum distance between an anchor and a negative sample, and thus the loss is higher than that of the random triplets. \n",
        "\n",
        "To sum it up, hard triplets guarantees the minimum interclass distance and yields better performance with a cost of training time.\n"
      ]
    }
  ]
}